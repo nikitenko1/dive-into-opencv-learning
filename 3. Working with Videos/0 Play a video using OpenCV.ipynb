{
 "cells": [
  {
   "cell_type": "markdown",
   "id": "51f3ef4c",
   "metadata": {},
   "source": [
    "<p style=\"font-family:ComicSansMS; font-size: 30px; color: magenta\"> Python | Play a video using OpenCV</p>"
   ]
  },
  {
   "cell_type": "markdown",
   "id": "142e602a",
   "metadata": {},
   "source": [
    "<p style=\"font-family:ComicSansMS; font-size: 20px; color: orange\">  Syntax</p>\n",
    "\n",
    "* <p style=\"font-family:ComicSansMS; font-size: 20px; color: orange\">cv2.VideoCapture(0): Means first camera or webcam.</<p>\n",
    "* <p style=\"font-family:ComicSansMS; font-size: 20px; color: orange\">cv2.VideoCapture(1):  Means second camera or webcam.</<p> \n",
    "* <p style=\"font-family:ComicSansMS; font-size: 20px; color: orange\">cv2.VideoCapture(\"file name.mp4\"): Means video file</<p>"
   ]
  },
  {
   "cell_type": "markdown",
   "id": "8d3af576",
   "metadata": {},
   "source": [
    "> Step 1: Import the required modules,"
   ]
  },
  {
   "cell_type": "code",
   "execution_count": 3,
   "id": "cb782e33",
   "metadata": {},
   "outputs": [],
   "source": [
    "import cv2"
   ]
  },
  {
   "cell_type": "markdown",
   "id": "16435279",
   "metadata": {},
   "source": [
    "> Step 2: Creating the object of the VideoCapture and read the input file"
   ]
  },
  {
   "cell_type": "code",
   "execution_count": 4,
   "id": "0b387ef5",
   "metadata": {},
   "outputs": [],
   "source": [
    "cap = cv2.VideoCapture('../data/pexels-takeoff.mp4')"
   ]
  },
  {
   "cell_type": "markdown",
   "id": "46c4d497",
   "metadata": {},
   "source": [
    "> Step 3: Check if the camera is opened or not,"
   ]
  },
  {
   "cell_type": "code",
   "execution_count": 5,
   "id": "40dc375d",
   "metadata": {},
   "outputs": [],
   "source": [
    "if (cap.isOpened()== False): \n",
    "# Give a error message\n",
    "    print(\"Error opening video file\")"
   ]
  },
  {
   "cell_type": "markdown",
   "id": "5bb6fecf",
   "metadata": {},
   "source": [
    "> Step 4: Entire file is read frame by frame,"
   ]
  },
  {
   "cell_type": "code",
   "execution_count": 6,
   "id": "ae4aaae2",
   "metadata": {},
   "outputs": [],
   "source": [
    "# Read the entire file until it is completed\n",
    "while(cap.isOpened()):\n",
    "  # Capture each frame\n",
    "    ret, frame = cap.read()\n",
    "    if ret == True:\n",
    "    # Display the resulting frame\n",
    "        # Display the resulting frame\n",
    "        cv2.imshow('Frame', frame)\n",
    "    \n",
    "        # Press Q on keyboard to exit\n",
    "        if cv2.waitKey(25) & 0xFF == ord('q'):\n",
    "            break\n",
    "\n",
    "# When everything done, release\n",
    "# the video capture object\n",
    "cap.release()\n",
    "\n",
    "# Closes all the frames\n",
    "cv2.destroyAllWindows()"
   ]
  },
  {
   "cell_type": "markdown",
   "id": "fa80309a",
   "metadata": {},
   "source": [
    "> Below is the complete implementation"
   ]
  },
  {
   "cell_type": "code",
   "execution_count": 7,
   "id": "4fa9e5b8",
   "metadata": {},
   "outputs": [],
   "source": [
    "# importing libraries\n",
    "import cv2\n",
    "\n",
    "# Create a VideoCapture object and read from input file\n",
    "cap = cv2.VideoCapture('../data/pexels-takeoff.mp4')\n",
    "\n",
    "# Check if camera opened successfully\n",
    "if (cap.isOpened()== False):\n",
    "    print(\"Error opening video file\")\n",
    "\n",
    "# Read until video is completed\n",
    "while(cap.isOpened()):\n",
    "    \n",
    "# Capture frame-by-frame\n",
    "    ret, frame = cap.read()\n",
    "    if ret == True:\n",
    "    # Display the resulting frame\n",
    "        cv2.imshow('Frame', frame)\n",
    "        \n",
    "    # Press Q on keyboard to exit\n",
    "        if cv2.waitKey(25) & 0xFF == ord('q'):\n",
    "            break\n",
    "\n",
    "# Break the loop\n",
    "    else:\n",
    "        break\n",
    "\n",
    "# When everything done, release\n",
    "# the video capture object\n",
    "cap.release()\n",
    "\n",
    "# Closes all the frames\n",
    "cv2.destroyAllWindows()\n"
   ]
  }
 ],
 "metadata": {
  "kernelspec": {
   "display_name": "base",
   "language": "python",
   "name": "python3"
  },
  "language_info": {
   "codemirror_mode": {
    "name": "ipython",
    "version": 3
   },
   "file_extension": ".py",
   "mimetype": "text/x-python",
   "name": "python",
   "nbconvert_exporter": "python",
   "pygments_lexer": "ipython3",
   "version": "3.12.7"
  }
 },
 "nbformat": 4,
 "nbformat_minor": 5
}
