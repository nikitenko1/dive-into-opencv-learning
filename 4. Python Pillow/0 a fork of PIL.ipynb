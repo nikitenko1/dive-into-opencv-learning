{
 "cells": [
  {
   "cell_type": "markdown",
   "id": "5a116861",
   "metadata": {},
   "source": [
    "<p style=\"font-family:ComicSansMS; font-size: 30px; color: magenta\"> Python: Pillow (a fork of PIL)</p>"
   ]
  },
  {
   "cell_type": "markdown",
   "id": "bd56e600",
   "metadata": {},
   "source": [
    "<p style=\"font-family:ComicSansMS; font-size: 20px; color: orange\"> Python Imaging Library (expansion of PIL) is the de facto image processing package for Python language. It incorporates lightweight image processing tools that aids in editing, creating and saving images.</<p>"
   ]
  },
  {
   "cell_type": "markdown",
   "id": "d3ccd3f1",
   "metadata": {},
   "source": [
    "> 1. Opening an image using open():"
   ]
  },
  {
   "cell_type": "code",
   "execution_count": 1,
   "id": "73ff1f4a",
   "metadata": {},
   "outputs": [],
   "source": [
    "from PIL import Image\n",
    "\n",
    "\n",
    "# test.png => location_of_image\n",
    "img = Image.open(r\"../data/pexels-saab-39.jpg\")   "
   ]
  },
  {
   "cell_type": "markdown",
   "id": "8481a5b1",
   "metadata": {},
   "source": [
    "> 2. Displaying the image using show():"
   ]
  },
  {
   "cell_type": "code",
   "execution_count": 2,
   "id": "7df6de72",
   "metadata": {},
   "outputs": [],
   "source": [
    "img.show()"
   ]
  },
  {
   "cell_type": "markdown",
   "id": "18345142",
   "metadata": {},
   "source": [
    "> 3. Obtaining information about the opened image"
   ]
  },
  {
   "cell_type": "markdown",
   "id": "eb99b1f3",
   "metadata": {},
   "source": [
    "> A) Getting the mode (color mode) of the image: "
   ]
  },
  {
   "cell_type": "code",
   "execution_count": 3,
   "id": "04acda15",
   "metadata": {},
   "outputs": [
    {
     "name": "stdout",
     "output_type": "stream",
     "text": [
      "RGB\n"
     ]
    }
   ],
   "source": [
    "print(img.mode)"
   ]
  },
  {
   "cell_type": "markdown",
   "id": "5cffc153",
   "metadata": {},
   "source": [
    "> B) Getting the size of the image:"
   ]
  },
  {
   "cell_type": "code",
   "execution_count": 4,
   "id": "21d7f226",
   "metadata": {},
   "outputs": [
    {
     "name": "stdout",
     "output_type": "stream",
     "text": [
      "(640, 427)\n"
     ]
    }
   ],
   "source": [
    "print(img.size)"
   ]
  },
  {
   "cell_type": "markdown",
   "id": "316defcd",
   "metadata": {},
   "source": [
    "> C) Getting the format of the image:"
   ]
  },
  {
   "cell_type": "code",
   "execution_count": 5,
   "id": "042699e6",
   "metadata": {},
   "outputs": [
    {
     "name": "stdout",
     "output_type": "stream",
     "text": [
      "JPEG\n"
     ]
    }
   ],
   "source": [
    "print(img.format)"
   ]
  },
  {
   "cell_type": "markdown",
   "id": "a95be2c1",
   "metadata": {},
   "source": [
    "> 4. Rotating an image using rotate(): "
   ]
  },
  {
   "cell_type": "code",
   "execution_count": 8,
   "id": "a189157a",
   "metadata": {},
   "outputs": [],
   "source": [
    "angle = 40\n",
    "r_img = img.rotate(angle)\n",
    "r_img.show()"
   ]
  },
  {
   "cell_type": "markdown",
   "id": "f3ab3987",
   "metadata": {},
   "source": [
    "> 5. Resizing an image using resize():"
   ]
  },
  {
   "cell_type": "code",
   "execution_count": 9,
   "id": "c3cec664",
   "metadata": {},
   "outputs": [],
   "source": [
    "size = (40, 40)\n",
    "img = Image.open(r\"../data/pexels-saab-39.jpg\") \n",
    "r_img = img.resize(size)\n",
    "\n",
    "r_img.show()"
   ]
  },
  {
   "cell_type": "markdown",
   "id": "84287411",
   "metadata": {},
   "source": [
    "> 6. Saving an image using save(): "
   ]
  },
  {
   "cell_type": "code",
   "execution_count": 11,
   "id": "3d599e05",
   "metadata": {},
   "outputs": [
    {
     "name": "stdout",
     "output_type": "stream",
     "text": [
      "(40, 40)\n"
     ]
    }
   ],
   "source": [
    "size = (40, 40)\n",
    "img = Image.open(r\"../data/pexels-saab-39.jpg\") \n",
    "r_img = img.resize(size, resample = Image.BILINEAR)\n",
    "\n",
    "# resized_test.png => Destination_path\n",
    "r_img.save(\"resized_test.png\") \n",
    "\n",
    "# Opening the new image\n",
    "img = Image.open(r\"resized_test.png\")\n",
    "print(img.size)"
   ]
  }
 ],
 "metadata": {
  "kernelspec": {
   "display_name": "base",
   "language": "python",
   "name": "python3"
  },
  "language_info": {
   "codemirror_mode": {
    "name": "ipython",
    "version": 3
   },
   "file_extension": ".py",
   "mimetype": "text/x-python",
   "name": "python",
   "nbconvert_exporter": "python",
   "pygments_lexer": "ipython3",
   "version": "3.12.7"
  }
 },
 "nbformat": 4,
 "nbformat_minor": 5
}
