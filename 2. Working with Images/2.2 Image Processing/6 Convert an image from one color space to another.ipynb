{
 "cells": [
  {
   "cell_type": "markdown",
   "id": "cc07042a",
   "metadata": {},
   "source": [
    "<p style=\"font-family:ComicSansMS; font-size: 30px; color: magenta\"> Python OpenCV | cv2.cvtColor() method</p>"
   ]
  },
  {
   "cell_type": "markdown",
   "id": "14e392eb",
   "metadata": {},
   "source": [
    "<p style=\"font-family:ComicSansMS; font-size: 20px; color: orange\"> cv2.cvtColor() method is used to convert an image from one color space to another. </p>"
   ]
  },
  {
   "cell_type": "markdown",
   "id": "1dec7290",
   "metadata": {},
   "source": [
    "> 1. Example #1:"
   ]
  },
  {
   "cell_type": "code",
   "execution_count": 6,
   "id": "e9537fda",
   "metadata": {},
   "outputs": [],
   "source": [
    "# Python program to explain cv2.cvtColor() method \n",
    " \n",
    "# importing cv2 \n",
    "import cv2 \n",
    " \n",
    "# path \n",
    "src = cv2.imread('../../data/kindpng_(2).png')\n",
    " \n",
    "# Using cv2.cvtColor() method\n",
    "# Using cv2.COLOR_BGR2GRAY color space\n",
    "# conversion code\n",
    "image = cv2.cvtColor(src, cv2.COLOR_BGR2GRAY )\n",
    "\n",
    "# Displaying the image  \n",
    "cv2.imshow('Image', image)\n",
    "cv2.waitKey(0)\n",
    "cv2.destroyAllWindows()"
   ]
  },
  {
   "cell_type": "markdown",
   "id": "5b2ac800",
   "metadata": {},
   "source": [
    "> Example #2:"
   ]
  },
  {
   "cell_type": "code",
   "execution_count": 7,
   "id": "b650e4fe",
   "metadata": {},
   "outputs": [],
   "source": [
    "# Using cv2.cvtColor() method\n",
    "# Using cv2.COLOR_BGR2HSV color space\n",
    "# conversion code\n",
    "image = cv2.cvtColor(src, cv2.COLOR_BGR2HSV )\n",
    "\n",
    "# Displaying the image  \n",
    "cv2.imshow('Image', image)\n",
    "cv2.waitKey(0)\n",
    "cv2.destroyAllWindows()"
   ]
  },
  {
   "cell_type": "code",
   "execution_count": null,
   "id": "ea2e38f5",
   "metadata": {},
   "outputs": [],
   "source": []
  },
  {
   "cell_type": "code",
   "execution_count": null,
   "id": "1ee591c8",
   "metadata": {},
   "outputs": [],
   "source": []
  }
 ],
 "metadata": {
  "kernelspec": {
   "display_name": "base",
   "language": "python",
   "name": "python3"
  },
  "language_info": {
   "codemirror_mode": {
    "name": "ipython",
    "version": 3
   },
   "file_extension": ".py",
   "mimetype": "text/x-python",
   "name": "python",
   "nbconvert_exporter": "python",
   "pygments_lexer": "ipython3",
   "version": "3.12.7"
  }
 },
 "nbformat": 4,
 "nbformat_minor": 5
}
