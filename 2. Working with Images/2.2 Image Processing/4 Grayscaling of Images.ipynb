{
 "cells": [
  {
   "cell_type": "markdown",
   "id": "57dc49cb",
   "metadata": {},
   "source": [
    "<p style=\"font-family:ComicSansMS; font-size: 30px; color: magenta\"> Python | Grayscaling of Images using OpenCV</p>"
   ]
  },
  {
   "cell_type": "markdown",
   "id": "71baa12f",
   "metadata": {},
   "source": [
    "<p style=\"font-family:ComicSansMS; font-size: 20px; color: orange\"> Grayscaling is the process of converting an image from other color spaces e.g. RGB, CMYK, HSV, etc. to shades of gray. It varies between complete black and complete white.</p>"
   ]
  },
  {
   "cell_type": "markdown",
   "id": "92f9cc54",
   "metadata": {},
   "source": [
    "> Advantages of grayscaling:"
   ]
  },
  {
   "cell_type": "markdown",
   "id": "7ed76a93",
   "metadata": {},
   "source": [
    "* Dimension reduction.\n",
    "* Reduces model complexity.\n",
    "* For other algorithms to work: Many algorithms are customized to work only on grayscale images e.g. "
   ]
  },
  {
   "cell_type": "markdown",
   "id": "fe137c7f",
   "metadata": {},
   "source": [
    "> Method 1: Using the cv2.cvtColor() function"
   ]
  },
  {
   "cell_type": "code",
   "execution_count": 2,
   "id": "bad3043d",
   "metadata": {},
   "outputs": [],
   "source": [
    "# Python program to explain cv2.erode() method \n",
    "\n",
    "# importing cv2 \n",
    "import cv2\n",
    "import os\n",
    "\n",
    "# importing numpy \n",
    "import numpy as np\n",
    "\n",
    "# Reading an image in default mode \n",
    "image = cv2.imread(\"../../data/pexels-saab-340.jpg\") \n",
    "\n",
    "cv2.imshow('Original', image)\n",
    "cv2.waitKey(0)\n",
    "\n",
    "# Use the cvtColor() function to grayscale the image\n",
    "gray_image = cv2.cvtColor(image, cv2.COLOR_BGR2GRAY)\n",
    "\n",
    "cv2.imshow('Grayscale', gray_image)\n",
    "cv2.waitKey(0)  \n",
    "\n",
    "cv2.destroyAllWindows()"
   ]
  },
  {
   "cell_type": "markdown",
   "id": "f3c8fec3",
   "metadata": {},
   "source": [
    "> Method 2: Using the cv2.imread() function with flag=zero"
   ]
  },
  {
   "cell_type": "code",
   "execution_count": 3,
   "id": "03972311",
   "metadata": {},
   "outputs": [],
   "source": [
    "# Use the second argument or (flag value) zero\n",
    "# that specifies the image is to be read in grayscale mode\n",
    "img = cv2.imread(\"../../data/pexels-saab-340.jpg\", 0)\n",
    "\n",
    "cv2.imshow('Grayscale Image', img)\n",
    "cv2.waitKey(0)\n",
    "\n",
    "# Window shown waits for any key pressing event\n",
    "cv2.destroyAllWindows()"
   ]
  },
  {
   "cell_type": "markdown",
   "id": "ff7b3945",
   "metadata": {},
   "source": [
    "> Method 3: Using the pixel manipulation (Average method)"
   ]
  },
  {
   "cell_type": "code",
   "execution_count": 4,
   "id": "fbf910f7",
   "metadata": {},
   "outputs": [],
   "source": [
    "# Load the input image\n",
    "img = cv2.imread(\"../../data/pexels-saab-340.jpg\")\n",
    "\n",
    "# Obtain the dimensions of the image array\n",
    "# using the shape method\n",
    "(row, col) = img.shape[0:2]\n",
    "\n",
    "# Take the average of pixel values of the BGR Channels\n",
    "# to convert the colored image to grayscale image\n",
    "for i in range(row):\n",
    "    for j in range(col):\n",
    "        # Find the average of the BGR pixel values\n",
    "        img[i, j] = sum(img[i, j]) * 0.33\n",
    "\n",
    "cv2.imshow('Grayscale Image', img)\n",
    "cv2.waitKey(0)\n",
    "\n",
    "# Window shown waits for any key pressing event\n",
    "cv2.destroyAllWindows()"
   ]
  },
  {
   "cell_type": "code",
   "execution_count": null,
   "id": "a5e376c9",
   "metadata": {},
   "outputs": [],
   "source": []
  }
 ],
 "metadata": {
  "kernelspec": {
   "display_name": "base",
   "language": "python",
   "name": "python3"
  },
  "language_info": {
   "codemirror_mode": {
    "name": "ipython",
    "version": 3
   },
   "file_extension": ".py",
   "mimetype": "text/x-python",
   "name": "python",
   "nbconvert_exporter": "python",
   "pygments_lexer": "ipython3",
   "version": "3.12.7"
  }
 },
 "nbformat": 4,
 "nbformat_minor": 5
}
