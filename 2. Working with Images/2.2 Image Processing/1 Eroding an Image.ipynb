{
 "cells": [
  {
   "cell_type": "markdown",
   "id": "7334f076",
   "metadata": {},
   "source": [
    "<p style=\"font-family:ComicSansMS; font-size: 30px; color: magenta\"> Python OpenCV | cv2.erode() method </p>"
   ]
  },
  {
   "cell_type": "markdown",
   "id": "20d82bfe",
   "metadata": {},
   "source": [
    "<p style=\"font-family:ComicSansMS; font-size: 20px; color: orange\"> The basic idea of erosion is just like soil erosion only, it erodes away the boundaries of foreground object (Always try to keep foreground in white)</p>"
   ]
  },
  {
   "cell_type": "markdown",
   "id": "73c7e5fa",
   "metadata": {},
   "source": [
    "> Example #1:"
   ]
  },
  {
   "cell_type": "code",
   "execution_count": 4,
   "id": "4dd49f9c",
   "metadata": {},
   "outputs": [],
   "source": [
    "# Python program to explain cv2.erode() method \n",
    "\n",
    "# importing cv2 \n",
    "import cv2\n",
    "import os\n",
    "\n",
    "# importing numpy \n",
    "import numpy as np\n",
    "\n",
    "# Reading an image in default mode \n",
    "image = cv2.imread(\"../../data/pexels-saab-39.jpg\") \n",
    "\n",
    "# Window name in which image is displayed \n",
    "window_name = 'Image'\n",
    "\n",
    "# Creating kernel\n",
    "kernel = np.ones((5, 5), np.uint8)\n",
    "\n",
    "# Using cv2.erode() method \n",
    "image = cv2.erode(image, kernel) \n",
    "\n",
    "# Displaying the image \n",
    "cv2.imshow(window_name, image) \n",
    "# Wait for a key press and close the window\n",
    "cv2.waitKey(0)\n",
    "cv2.destroyAllWindows()"
   ]
  },
  {
   "cell_type": "markdown",
   "id": "03dca984",
   "metadata": {},
   "source": [
    "> Example #2:"
   ]
  },
  {
   "cell_type": "code",
   "execution_count": 5,
   "id": "06e5e3d4",
   "metadata": {},
   "outputs": [],
   "source": [
    "# Using cv2.erode() method \n",
    "image = cv2.erode(image, kernel, cv2.BORDER_REFLECT) \n",
    "# Displaying the image \n",
    "cv2.imshow(window_name, image) \n",
    "# Wait for a key press and close the window\n",
    "cv2.waitKey(0)\n",
    "cv2.destroyAllWindows()"
   ]
  },
  {
   "cell_type": "code",
   "execution_count": null,
   "id": "4c8dab84",
   "metadata": {},
   "outputs": [],
   "source": []
  }
 ],
 "metadata": {
  "kernelspec": {
   "display_name": "base",
   "language": "python",
   "name": "python3"
  },
  "language_info": {
   "codemirror_mode": {
    "name": "ipython",
    "version": 3
   },
   "file_extension": ".py",
   "mimetype": "text/x-python",
   "name": "python",
   "nbconvert_exporter": "python",
   "pygments_lexer": "ipython3",
   "version": "3.12.7"
  }
 },
 "nbformat": 4,
 "nbformat_minor": 5
}
