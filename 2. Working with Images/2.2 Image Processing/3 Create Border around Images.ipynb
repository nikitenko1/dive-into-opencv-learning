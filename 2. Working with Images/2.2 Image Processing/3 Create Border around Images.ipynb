{
 "cells": [
  {
   "cell_type": "markdown",
   "id": "57dc49cb",
   "metadata": {},
   "source": [
    "<p style=\"font-family:ComicSansMS; font-size: 30px; color: magenta\"> Python OpenCV | cv2.copyMakeBorder() method</p>"
   ]
  },
  {
   "cell_type": "markdown",
   "id": "71baa12f",
   "metadata": {},
   "source": [
    "<p style=\"font-family:ComicSansMS; font-size: 20px; color: orange\"> Syntax: cv2.copyMakeBorder(src, top, bottom, left, right, borderType, value)</p>"
   ]
  },
  {
   "cell_type": "markdown",
   "id": "fe137c7f",
   "metadata": {},
   "source": [
    "> Example #1: "
   ]
  },
  {
   "cell_type": "code",
   "execution_count": 1,
   "id": "bad3043d",
   "metadata": {},
   "outputs": [],
   "source": [
    "# Python program to explain cv2.erode() method \n",
    "\n",
    "# importing cv2 \n",
    "import cv2\n",
    "import os\n",
    "\n",
    "# importing numpy \n",
    "import numpy as np\n",
    "\n",
    "# Reading an image in default mode \n",
    "image = cv2.imread(\"../../data/pexels-saab-39.jpg\") \n",
    "\n",
    "# Using cv2.copyMakeBorder() method \n",
    "image = cv2.copyMakeBorder(image, 10, 10, 10, 10, cv2.BORDER_CONSTANT, None, value = 0)\n",
    "\n",
    "cv2.imshow('Image', image)\n",
    "cv2.waitKey(0)\n",
    "cv2.destroyAllWindows()"
   ]
  },
  {
   "cell_type": "markdown",
   "id": "13880ee2",
   "metadata": {},
   "source": [
    "> Example #2: "
   ]
  },
  {
   "cell_type": "code",
   "execution_count": 2,
   "id": "57dd20c0",
   "metadata": {},
   "outputs": [],
   "source": [
    "# Using cv2.copyMakeBorder() method \n",
    "image = cv2.copyMakeBorder(image, 100, 100, 50, 50, cv2.BORDER_REFLECT) \n",
    "  \n",
    "# Displaying the image  \n",
    "cv2.imshow('Image', image)\n",
    "cv2.waitKey(0)\n",
    "cv2.destroyAllWindows()"
   ]
  },
  {
   "cell_type": "code",
   "execution_count": null,
   "id": "bb6cc400",
   "metadata": {},
   "outputs": [],
   "source": [
    "# Using cv2.copyMakeBorder() method \n",
    "image = cv2.copyMakeBorder(image, 100, 100, 50, 50, cv2.BORDER_REFLECT) \n",
    "  \n",
    "# Displaying the image  \n",
    "cv2.imshow('Image', image)\n",
    "cv2.waitKey(0)\n",
    "cv2.destroyAllWindows()"
   ]
  }
 ],
 "metadata": {
  "kernelspec": {
   "display_name": "base",
   "language": "python",
   "name": "python3"
  },
  "language_info": {
   "codemirror_mode": {
    "name": "ipython",
    "version": 3
   },
   "file_extension": ".py",
   "mimetype": "text/x-python",
   "name": "python",
   "nbconvert_exporter": "python",
   "pygments_lexer": "ipython3",
   "version": "3.12.7"
  }
 },
 "nbformat": 4,
 "nbformat_minor": 5
}
