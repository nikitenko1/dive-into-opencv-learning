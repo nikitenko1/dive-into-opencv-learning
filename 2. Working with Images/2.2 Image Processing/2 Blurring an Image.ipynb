{
 "cells": [
  {
   "cell_type": "markdown",
   "id": "57dc49cb",
   "metadata": {},
   "source": [
    "<p style=\"font-family:ComicSansMS; font-size: 30px; color: magenta\"> Python | Image blurring using OpenCV</p>"
   ]
  },
  {
   "cell_type": "markdown",
   "id": "71baa12f",
   "metadata": {},
   "source": [
    "<p style=\"font-family:ComicSansMS; font-size: 20px; color: orange\"> Image Blurring refers to making the image less clear or distinct.</p>"
   ]
  },
  {
   "cell_type": "markdown",
   "id": "fe137c7f",
   "metadata": {},
   "source": [
    "> Advantages of blurring:"
   ]
  },
  {
   "cell_type": "markdown",
   "id": "afa154ff",
   "metadata": {},
   "source": [
    "* It helps in Noise removal.\n",
    "* It helps in smoothing the image.\n",
    "* Low intensity edges are removed.\n",
    "* It helps in hiding the details when necessary. For e.g. in many cases police deliberately want to hide the face of the victim, in such cases blurring is required."
   ]
  },
  {
   "cell_type": "code",
   "execution_count": 1,
   "id": "bad3043d",
   "metadata": {},
   "outputs": [],
   "source": [
    "# Python program to explain cv2.erode() method \n",
    "\n",
    "# importing cv2 \n",
    "import cv2\n",
    "import os\n",
    "\n",
    "# importing numpy \n",
    "import numpy as np\n",
    "\n",
    "# Reading an image in default mode \n",
    "image = cv2.imread(\"../../data/pexels-saab-39.jpg\") \n",
    " \n",
    "cv2.imshow('Original Image', image)\n",
    "# Wait for a key press and close the window\n",
    "cv2.waitKey(0)\n",
    "\n",
    "# Gaussian Blur\n",
    "Gaussian = cv2.GaussianBlur(image, (7, 7), 0)\n",
    "cv2.imshow('Gaussian Blurring', Gaussian)\n",
    "cv2.waitKey(0)\n",
    "\n",
    "# Median Blur\n",
    "median = cv2.medianBlur(image, 5)\n",
    "cv2.imshow('Median Blurring', median)\n",
    "cv2.waitKey(0)\n",
    "\n",
    "\n",
    "# Bilateral Blur\n",
    "bilateral = cv2.bilateralFilter(image, 9, 75, 75)\n",
    "cv2.imshow('Bilateral Blurring', bilateral)\n",
    "cv2.waitKey(0)\n",
    "cv2.destroyAllWindows()"
   ]
  }
 ],
 "metadata": {
  "kernelspec": {
   "display_name": "base",
   "language": "python",
   "name": "python3"
  },
  "language_info": {
   "codemirror_mode": {
    "name": "ipython",
    "version": 3
   },
   "file_extension": ".py",
   "mimetype": "text/x-python",
   "name": "python",
   "nbconvert_exporter": "python",
   "pygments_lexer": "ipython3",
   "version": "3.12.7"
  }
 },
 "nbformat": 4,
 "nbformat_minor": 5
}
